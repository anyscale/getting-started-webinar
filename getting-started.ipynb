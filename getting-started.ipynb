{
 "cells": [
  {
   "cell_type": "markdown",
   "id": "72fbd235",
   "metadata": {},
   "source": [
    "# Getting Started With Anyscale\n",
    "This notebook takes you from a Ray script to an Anyscale cluster."
   ]
  },
  {
   "cell_type": "code",
   "execution_count": null,
   "id": "986922b7",
   "metadata": {
    "lines_to_next_cell": 1
   },
   "outputs": [],
   "source": [
    "# Let's import and connect to ray.\n",
    "# We're going to start by running Ray on the same machine as this noebook.\n",
    "import ray\n",
    "import time\n",
    "ray.shutdown()\n",
    "ray.init()"
   ]
  },
  {
   "cell_type": "markdown",
   "id": "5dafb904",
   "metadata": {},
   "source": [
    "# Task, Actor and Entry Point"
   ]
  },
  {
   "cell_type": "code",
   "execution_count": null,
   "id": "82dd2f72",
   "metadata": {},
   "outputs": [],
   "source": [
    "def local_func(i):\n",
    "    #time.sleep(0.1)\n",
    "    return i*i\n",
    "\n",
    "@ray.remote\n",
    "def my_remote_task(i):\n",
    "    return f\"The square of {i} is {local_func(i)}\"\n",
    "\n",
    "@ray.remote\n",
    "class Squarer:\n",
    "    def squareme(self, i):\n",
    "        return local_func(i)\n",
    "    def labelme(self, i):\n",
    "        ref = my_remote_task.remote(i)\n",
    "        return ray.get(ref)\n"
   ]
  },
  {
   "cell_type": "code",
   "execution_count": null,
   "id": "3f68869c",
   "metadata": {},
   "outputs": [],
   "source": [
    "print(local_func(1001))"
   ]
  },
  {
   "cell_type": "code",
   "execution_count": null,
   "id": "5d1a3a5a",
   "metadata": {},
   "outputs": [],
   "source": [
    "# what will this do?\n",
    "ref = my_remote_task.remote(123)"
   ]
  },
  {
   "cell_type": "code",
   "execution_count": null,
   "id": "85f6ef88",
   "metadata": {},
   "outputs": [],
   "source": [
    "ray.get(ref)"
   ]
  },
  {
   "cell_type": "code",
   "execution_count": null,
   "id": "south-retro",
   "metadata": {},
   "outputs": [],
   "source": [
    "# this code is the entry point.  If I were to run\n",
    "# python this_script.py, then this would be executed\n",
    "if __name__ == \"__main__\":\n",
    "    #argument = int(sys.argv[1])\n",
    "    argument = 15\n",
    "    n = local_func(argument)\n",
    "    actor = Squarer.remote()\n",
    "    ref = actor.labelme.remote(n)\n",
    "    print(ray.get(ref))"
   ]
  },
  {
   "cell_type": "markdown",
   "id": "7f1ff5c8",
   "metadata": {},
   "source": [
    "# Ray Resources\n",
    "How can we take a look at what Ray is doing"
   ]
  },
  {
   "cell_type": "code",
   "execution_count": null,
   "id": "1e2ad76b",
   "metadata": {
    "lines_to_next_cell": 2
   },
   "outputs": [],
   "source": [
    "ray.cluster_resources()"
   ]
  },
  {
   "cell_type": "code",
   "execution_count": null,
   "id": "e7093231",
   "metadata": {},
   "outputs": [],
   "source": [
    "ray.shutdown()"
   ]
  },
  {
   "cell_type": "code",
   "execution_count": null,
   "id": "01157410",
   "metadata": {},
   "outputs": [],
   "source": [
    "ray.init(num_cpus=1000)"
   ]
  },
  {
   "cell_type": "code",
   "execution_count": null,
   "id": "109d45a6",
   "metadata": {},
   "outputs": [],
   "source": [
    "ray.cluster_resources()"
   ]
  },
  {
   "cell_type": "code",
   "execution_count": null,
   "id": "513b2f77",
   "metadata": {},
   "outputs": [],
   "source": [
    "x = [Squarer.options(num_cpus=0.01).remote() for _ in range(100)]"
   ]
  },
  {
   "cell_type": "code",
   "execution_count": null,
   "id": "898296e6",
   "metadata": {},
   "outputs": [],
   "source": [
    "x,y=0,0"
   ]
  },
  {
   "cell_type": "markdown",
   "id": "a76ac8d0",
   "metadata": {},
   "source": [
    "# Connecting to Anyscale"
   ]
  },
  {
   "cell_type": "code",
   "execution_count": null,
   "id": "f53f2ecd",
   "metadata": {},
   "outputs": [],
   "source": [
    "# make sure you're not using Ray\n",
    "ray.shutdown()"
   ]
  },
  {
   "cell_type": "code",
   "execution_count": null,
   "id": "02d2109f",
   "metadata": {},
   "outputs": [],
   "source": [
    "# Ray Client\n",
    "\n",
    "#ray.init(\"anyscale://\")\n",
    "#ray.init(\"anyscale://my_project/\")\n",
    "#ray.init(\"anyscale://my_cluster\")\n",
    "ctx = ray.init(\"anyscale://getting_started/my_cluster\",\n",
    "              #runtime_env={\"working_dir\" : \".\"},\n",
    "              #cluster_env=\"\",\n",
    "              #cluster_compute=\"\")\n",
    "ctx"
   ]
  },
  {
   "cell_type": "code",
   "execution_count": null,
   "id": "aa4e7ad8",
   "metadata": {},
   "outputs": [],
   "source": [
    "# here's how we'll ask Ray to go get more\n",
    "import ray.autoscaler.sdk\n",
    "ray.autoscaler.sdk.request_resources(num_cpus=8)"
   ]
  },
  {
   "cell_type": "code",
   "execution_count": null,
   "id": "915a0680",
   "metadata": {},
   "outputs": [],
   "source": [
    "ray.cluster_resources()"
   ]
  },
  {
   "cell_type": "code",
   "execution_count": null,
   "id": "46795ce0",
   "metadata": {},
   "outputs": [],
   "source": [
    "ray.shutdown()"
   ]
  },
  {
   "cell_type": "code",
   "execution_count": null,
   "id": "bb6f776b",
   "metadata": {},
   "outputs": [],
   "source": []
  }
 ],
 "metadata": {
  "jupytext": {
   "cell_metadata_filter": "-all",
   "main_language": "python",
   "notebook_metadata_filter": "-all"
  },
  "kernelspec": {
   "display_name": "Python 3 (ipykernel)",
   "language": "python",
   "name": "python3"
  },
  "language_info": {
   "codemirror_mode": {
    "name": "ipython",
    "version": 3
   },
   "file_extension": ".py",
   "mimetype": "text/x-python",
   "name": "python",
   "nbconvert_exporter": "python",
   "pygments_lexer": "ipython3",
   "version": "3.8.12"
  }
 },
 "nbformat": 4,
 "nbformat_minor": 5
}

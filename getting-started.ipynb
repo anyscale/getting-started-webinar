{
 "cells": [
  {
   "cell_type": "markdown",
   "id": "72fbd235",
   "metadata": {},
   "source": [
    "# Getting Started With Anyscale\n",
    "This notebook takes you from a Ray script to an Anyscale cluster.  It is a very fast but complete tour from development to production jobs.\n",
    "\n",
    "To limit the material, this notebook contains no machine learning code nor serious workloads.  It does however show how Ray works, how Anyscale scales, and how to work in the cloud.\n",
    "\n",
    "Find this notebook on Github [here](https://github.com/anyscale/getting-started-webinar)."
   ]
  },
  {
   "cell_type": "code",
   "execution_count": null,
   "id": "742982ad",
   "metadata": {},
   "outputs": [],
   "source": [
    "!pip install \"ray[default]\"==1.10\n",
    "!pip install anyscale"
   ]
  },
  {
   "cell_type": "code",
   "execution_count": null,
   "id": "986922b7",
   "metadata": {
    "lines_to_next_cell": 1
   },
   "outputs": [],
   "source": [
    "import ray\n",
    "import time\n",
    "import anyscale"
   ]
  },
  {
   "cell_type": "markdown",
   "id": "eddc48c8",
   "metadata": {},
   "source": [
    "You can shut down Ray or disconnect from it with this command:"
   ]
  },
  {
   "cell_type": "code",
   "execution_count": null,
   "id": "65f209c6",
   "metadata": {},
   "outputs": [],
   "source": [
    "ray.shutdown()"
   ]
  },
  {
   "cell_type": "markdown",
   "id": "ba1280c5",
   "metadata": {},
   "source": [
    "Let's start Ray and connect to it.\n",
    "We're going to start by running Ray on the same machine as this notebook."
   ]
  },
  {
   "cell_type": "code",
   "execution_count": null,
   "id": "f24fe680",
   "metadata": {},
   "outputs": [],
   "source": [
    "ray.init()"
   ]
  },
  {
   "cell_type": "markdown",
   "id": "5dafb904",
   "metadata": {},
   "source": [
    "# Task, Actor and Entry Point\n",
    "The following is a complete Ray program that we'll use to take us from Ray to Anyscale"
   ]
  },
  {
   "cell_type": "code",
   "execution_count": null,
   "id": "82dd2f72",
   "metadata": {},
   "outputs": [],
   "source": [
    "def local_func(i):\n",
    "    time.sleep(0.1)\n",
    "    return i*i\n",
    "\n",
    "@ray.remote\n",
    "def my_remote_task(i):\n",
    "    return f\"The square of {i} is {local_func(i)}\"\n",
    "\n",
    "@ray.remote\n",
    "class Squarer:\n",
    "    def squareme(self, i):\n",
    "        return local_func(i)\n",
    "    def labelme(self, i):\n",
    "        ref = my_remote_task.remote(i)\n",
    "        return ray.get(ref)\n"
   ]
  },
  {
   "cell_type": "markdown",
   "id": "136285d5",
   "metadata": {},
   "source": [
    "The next couple of cells play with the above code and show how to interact with code running in Ray."
   ]
  },
  {
   "cell_type": "code",
   "execution_count": null,
   "id": "3f68869c",
   "metadata": {},
   "outputs": [],
   "source": [
    "# local function (not remote)\n",
    "print(local_func(1001))"
   ]
  },
  {
   "cell_type": "code",
   "execution_count": null,
   "id": "5d1a3a5a",
   "metadata": {},
   "outputs": [],
   "source": [
    "# what will this do?\n",
    "ref = my_remote_task.remote(123)\n",
    "ref"
   ]
  },
  {
   "cell_type": "code",
   "execution_count": null,
   "id": "85f6ef88",
   "metadata": {},
   "outputs": [],
   "source": [
    "ray.get(ref)"
   ]
  },
  {
   "cell_type": "code",
   "execution_count": null,
   "id": "south-retro",
   "metadata": {},
   "outputs": [],
   "source": [
    "# this code is the entry point.  If I were to run\n",
    "# python this_script.py, then this would be executed\n",
    "if __name__ == \"__main__\":\n",
    "    #argument = int(sys.argv[1])\n",
    "    argument = 15\n",
    "    n = local_func(argument)\n",
    "    actor = Squarer.remote()\n",
    "    ref = actor.labelme.remote(n)\n",
    "    print(ray.get(ref))"
   ]
  },
  {
   "cell_type": "markdown",
   "id": "7f1ff5c8",
   "metadata": {},
   "source": [
    "# Ray Resources\n",
    "How can we take a look at what Ray is doing.  The first time through this section, we'll be using the local Ray.  These cells are repeated later on after connecting with Anyscale."
   ]
  },
  {
   "cell_type": "code",
   "execution_count": null,
   "id": "1e2ad76b",
   "metadata": {
    "lines_to_next_cell": 2
   },
   "outputs": [],
   "source": [
    "ray.cluster_resources()"
   ]
  },
  {
   "cell_type": "code",
   "execution_count": null,
   "id": "e7093231",
   "metadata": {},
   "outputs": [],
   "source": [
    "ray.shutdown()"
   ]
  },
  {
   "cell_type": "markdown",
   "id": "b0e581d2",
   "metadata": {},
   "source": [
    "**Ray does not care about reality**"
   ]
  },
  {
   "cell_type": "code",
   "execution_count": null,
   "id": "01157410",
   "metadata": {},
   "outputs": [],
   "source": [
    "ray.init(num_cpus=1000)"
   ]
  },
  {
   "cell_type": "code",
   "execution_count": null,
   "id": "109d45a6",
   "metadata": {},
   "outputs": [],
   "source": [
    "ray.cluster_resources()"
   ]
  },
  {
   "cell_type": "markdown",
   "id": "e641f729",
   "metadata": {},
   "source": [
    "Use **num_cpus** to control allocation of actors and tasks"
   ]
  },
  {
   "cell_type": "code",
   "execution_count": null,
   "id": "513b2f77",
   "metadata": {},
   "outputs": [],
   "source": [
    "x = [Squarer.options(num_cpus=0.01).remote() for _ in range(100)]"
   ]
  },
  {
   "cell_type": "code",
   "execution_count": null,
   "id": "898296e6",
   "metadata": {},
   "outputs": [],
   "source": [
    "y = [z.squareme.remote(i) for i,z in enumerate(x)]\n",
    "ray.get(y)"
   ]
  },
  {
   "cell_type": "markdown",
   "id": "a76ac8d0",
   "metadata": {},
   "source": [
    "# Connecting to Anyscale"
   ]
  },
  {
   "cell_type": "code",
   "execution_count": null,
   "id": "f53f2ecd",
   "metadata": {},
   "outputs": [],
   "source": [
    "import ray\n",
    "# make sure you're not using Ray\n",
    "ray.shutdown()"
   ]
  },
  {
   "cell_type": "markdown",
   "id": "d71ab46b",
   "metadata": {},
   "source": [
    "You need credentials to connect to Anyscale.  Since this notebook is running on my laptop, I'm using the credentials I fetched from the [Anyscale UI](https://console.anyscale.com)"
   ]
  },
  {
   "cell_type": "code",
   "execution_count": null,
   "id": "02d2109f",
   "metadata": {},
   "outputs": [],
   "source": [
    "# Ray Client\n",
    "import ray\n",
    "#ray.init(\"anyscale://\")\n",
    "#ray.init(\"anyscale://my_project/\")\n",
    "#ray.init(\"anyscale://my_cluster\")\n",
    "ctx = ray.init(\"anyscale://getting_started/my_cluster\",\n",
    "              runtime_env={\"working_dir\" : \".\"},\n",
    "              cluster_env=\"demo-with-aws:3\",\n",
    "              cluster_compute=\"demos-s3-access\",\n",
    "              )\n",
    "ctx"
   ]
  },
  {
   "cell_type": "code",
   "execution_count": null,
   "id": "aa4e7ad8",
   "metadata": {},
   "outputs": [],
   "source": [
    "# here's how we'll ask Ray to go get more\n",
    "import ray.autoscaler.sdk\n",
    "ray.autoscaler.sdk.request_resources(num_cpus=100)"
   ]
  },
  {
   "cell_type": "code",
   "execution_count": null,
   "id": "a1c793c2",
   "metadata": {},
   "outputs": [],
   "source": [
    "ray.cluster_resources()"
   ]
  },
  {
   "cell_type": "markdown",
   "id": "854f9fe5",
   "metadata": {},
   "source": [
    "The following cell is repeated for convenience:"
   ]
  },
  {
   "cell_type": "code",
   "execution_count": null,
   "id": "0ca37527",
   "metadata": {},
   "outputs": [],
   "source": [
    "def local_func(i):\n",
    "    import time\n",
    "    time.sleep(0.1)\n",
    "    return i*i\n",
    "\n",
    "@ray.remote\n",
    "def my_remote_task(i):\n",
    "    return f\"The square of {i} is {local_func(i)}\"\n",
    "\n",
    "@ray.remote\n",
    "class Squarer:\n",
    "    def squareme(self, i):\n",
    "        return local_func(i)\n",
    "    def labelme(self, i):\n",
    "        ref = my_remote_task.remote(i)\n",
    "        return ray.get(ref)\n"
   ]
  },
  {
   "cell_type": "code",
   "execution_count": null,
   "id": "79e65f99",
   "metadata": {},
   "outputs": [],
   "source": [
    "x = [Squarer.options(num_cpus=0.5).remote() for _ in range(10)]\n"
   ]
  },
  {
   "cell_type": "code",
   "execution_count": null,
   "id": "16bdd879",
   "metadata": {},
   "outputs": [],
   "source": [
    "y = [z.squareme.remote(i) for i,z in enumerate(x)]\n",
    "ray.get(y)"
   ]
  },
  {
   "cell_type": "markdown",
   "id": "c3b94b21",
   "metadata": {},
   "source": [
    "# Long Term Storage\n",
    "Your first experience with Anyscale will be the fully-managed version.  In order to use long-term storage, you'll have to allow the Ray cluster running in Anyscale's cloud to access your long term storage.\n",
    "\n",
    "There are [detailed instructions](https://docs.anyscale.com/user-guide/configure/access-resources-from-cloud/overview) on the docs website for setting up this role and leveraging it.\n",
    "\n",
    "```\n",
    "ctx = ray.init(\"anyscale://getting_started/my_cluster2\",\n",
    "              runtime_env={\"working_dir\" : \".\"},\n",
    "              cluster_env=\"demo-with-aws:3\",\n",
    "              cluster_compute=\"demos-s3-access\",\n",
    "              )\n",
    "```\n",
    "\n",
    "Below is code that uses ray datasets to read and write data to a S3 bucket.\n",
    "\n"
   ]
  },
  {
   "cell_type": "code",
   "execution_count": null,
   "id": "14790b5c",
   "metadata": {},
   "outputs": [],
   "source": [
    "import ray\n",
    "@ray.remote\n",
    "def write_generated_data(path):\n",
    "    ds = ray.data.range(100000)\n",
    "\n",
    "    ds.write_parquet(path)\n",
    "    return \"Done\"\n",
    "\n",
    "@ray.remote\n",
    "def read_data(path):\n",
    "    ds = ray.data.read_parquet(path)\n",
    "    return \"Read the data\"\n",
    "\n",
    "ref = write_generated_data.remote(\"s3://dir-temp/notebook-data.parquet\")\n",
    "ray.get(ref)"
   ]
  },
  {
   "cell_type": "code",
   "execution_count": null,
   "id": "33d7d2da",
   "metadata": {},
   "outputs": [],
   "source": [
    "read = read_data.remote(\"s3://dir-temp/notebook-data.parquet\")\n",
    "\n",
    "ray.get(read)"
   ]
  },
  {
   "cell_type": "code",
   "execution_count": null,
   "id": "277c299f",
   "metadata": {},
   "outputs": [],
   "source": []
  }
 ],
 "metadata": {
  "jupytext": {
   "cell_metadata_filter": "-all",
   "main_language": "python",
   "notebook_metadata_filter": "-all"
  },
  "kernelspec": {
   "display_name": "Python 3 (ipykernel)",
   "language": "python",
   "name": "python3"
  },
  "language_info": {
   "codemirror_mode": {
    "name": "ipython",
    "version": 3
   },
   "file_extension": ".py",
   "mimetype": "text/x-python",
   "name": "python",
   "nbconvert_exporter": "python",
   "pygments_lexer": "ipython3",
   "version": "3.8.12"
  }
 },
 "nbformat": 4,
 "nbformat_minor": 5
}
